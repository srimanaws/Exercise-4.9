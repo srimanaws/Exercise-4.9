{
 "cells": [
  {
   "cell_type": "code",
   "execution_count": 2,
   "id": "51da0d88-a20c-4a98-86d7-1bd066084641",
   "metadata": {},
   "outputs": [
    {
     "name": "stdout",
     "output_type": "stream",
     "text": [
      "   Celsius Fahrenheit\n",
      "         0       32.0\n",
      "         5       41.0\n",
      "        10       50.0\n",
      "        15       59.0\n",
      "        20       68.0\n",
      "        25       77.0\n",
      "        30       86.0\n",
      "        35       95.0\n",
      "        40      104.0\n",
      "        45      113.0\n",
      "        50      122.0\n",
      "        55      131.0\n",
      "        60      140.0\n",
      "        65      149.0\n",
      "        70      158.0\n",
      "        75      167.0\n",
      "        80      176.0\n",
      "        85      185.0\n",
      "        90      194.0\n",
      "        95      203.0\n",
      "       100      212.0\n"
     ]
    }
   ],
   "source": [
    "# Exercise: Temperature Conversion\n",
    "# Author: Sriman\n",
    "\n",
    "def fahrenheit(celsius):\n",
    "    \"\"\"\n",
    "    Convert a Celsius temperature to Fahrenheit.\n",
    "    \n",
    "    :param celsius: The temperature in Celsius\n",
    "    :return: The equivalent temperature in Fahrenheit\n",
    "    \"\"\"\n",
    "    # Apply the formula to convert Celsius to Fahrenheit\n",
    "    return (9 / 5) * celsius + 32\n",
    "\n",
    "# Print the table header to show what each column represents\n",
    "print(f'{\"Celsius\":>10} {\"Fahrenheit\":>10}')\n",
    "\n",
    "# Loop through Celsius temperatures from 0 to 100\n",
    "for celsius in range(0, 101, 5):  # Stepping by 5 for easier reading\n",
    "    # Convert the Celsius temperature to Fahrenheit\n",
    "    temp_fahrenheit = fahrenheit(celsius)\n",
    "    # Print the Celsius and Fahrenheit values, rounded to one decimal place\n",
    "    print(f'{celsius:10} {temp_fahrenheit:10.1f}')\n"
   ]
  },
  {
   "cell_type": "code",
   "execution_count": null,
   "id": "806b1805-e506-41a5-89cb-847afb517022",
   "metadata": {},
   "outputs": [],
   "source": []
  }
 ],
 "metadata": {
  "kernelspec": {
   "display_name": "Python 3 (ipykernel)",
   "language": "python",
   "name": "python3"
  },
  "language_info": {
   "codemirror_mode": {
    "name": "ipython",
    "version": 3
   },
   "file_extension": ".py",
   "mimetype": "text/x-python",
   "name": "python",
   "nbconvert_exporter": "python",
   "pygments_lexer": "ipython3",
   "version": "3.12.4"
  }
 },
 "nbformat": 4,
 "nbformat_minor": 5
}
